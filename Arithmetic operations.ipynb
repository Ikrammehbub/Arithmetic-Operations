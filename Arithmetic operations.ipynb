{
 "cells": [
  {
   "cell_type": "code",
   "execution_count": 1,
   "id": "c71ecc69",
   "metadata": {},
   "outputs": [],
   "source": [
    "a=10//5  "
   ]
  },
  {
   "cell_type": "code",
   "execution_count": 2,
   "id": "786f2c8a",
   "metadata": {},
   "outputs": [
    {
     "name": "stdout",
     "output_type": "stream",
     "text": [
      "2\n"
     ]
    }
   ],
   "source": [
    "print(a)"
   ]
  },
  {
   "cell_type": "code",
   "execution_count": 3,
   "id": "d2ad16ff",
   "metadata": {},
   "outputs": [],
   "source": [
    "a=11%5  # % is used for remainder"
   ]
  },
  {
   "cell_type": "code",
   "execution_count": 4,
   "id": "e8f28397",
   "metadata": {},
   "outputs": [
    {
     "name": "stdout",
     "output_type": "stream",
     "text": [
      "1\n"
     ]
    }
   ],
   "source": [
    "print(a)"
   ]
  },
  {
   "cell_type": "code",
   "execution_count": 5,
   "id": "77e1a60f",
   "metadata": {},
   "outputs": [],
   "source": [
    "a=4*5  "
   ]
  },
  {
   "cell_type": "code",
   "execution_count": 7,
   "id": "c40b05f8",
   "metadata": {},
   "outputs": [
    {
     "name": "stdout",
     "output_type": "stream",
     "text": [
      "20\n"
     ]
    }
   ],
   "source": [
    "print(a)"
   ]
  },
  {
   "cell_type": "code",
   "execution_count": 8,
   "id": "c0d6a408",
   "metadata": {},
   "outputs": [],
   "source": [
    "a=5**2"
   ]
  },
  {
   "cell_type": "code",
   "execution_count": 9,
   "id": "3be28b62",
   "metadata": {},
   "outputs": [
    {
     "name": "stdout",
     "output_type": "stream",
     "text": [
      "25\n"
     ]
    }
   ],
   "source": [
    "print(a)"
   ]
  },
  {
   "cell_type": "code",
   "execution_count": 10,
   "id": "3d02de04",
   "metadata": {},
   "outputs": [],
   "source": [
    "a=4+5"
   ]
  },
  {
   "cell_type": "code",
   "execution_count": 11,
   "id": "4f1754d7",
   "metadata": {},
   "outputs": [
    {
     "name": "stdout",
     "output_type": "stream",
     "text": [
      "9\n"
     ]
    }
   ],
   "source": [
    "print(a)"
   ]
  },
  {
   "cell_type": "code",
   "execution_count": null,
   "id": "e680174d",
   "metadata": {},
   "outputs": [],
   "source": []
  }
 ],
 "metadata": {
  "kernelspec": {
   "display_name": "Python 3",
   "language": "python",
   "name": "python3"
  },
  "language_info": {
   "codemirror_mode": {
    "name": "ipython",
    "version": 3
   },
   "file_extension": ".py",
   "mimetype": "text/x-python",
   "name": "python",
   "nbconvert_exporter": "python",
   "pygments_lexer": "ipython3",
   "version": "3.8.8"
  }
 },
 "nbformat": 4,
 "nbformat_minor": 5
}
